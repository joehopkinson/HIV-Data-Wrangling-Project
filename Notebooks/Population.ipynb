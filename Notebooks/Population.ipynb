{
 "cells": [
  {
   "cell_type": "markdown",
   "metadata": {},
   "source": [
    "# Population"
   ]
  },
  {
   "cell_type": "code",
   "execution_count": 64,
   "metadata": {},
   "outputs": [],
   "source": [
    "# Libraries\n",
    "\n",
    "import numpy as np\n",
    "import pandas as pd\n",
    "import matplotlib.pyplot as plt\n",
    "pd.options.display.max_rows = 20\n",
    "np.set_printoptions(precision = 4, suppress = True)"
   ]
  },
  {
   "cell_type": "code",
   "execution_count": 53,
   "metadata": {},
   "outputs": [],
   "source": [
    "HIV_df = pd.read_csv(\"finalhiv.csv\")\n",
    "HIV_df.drop(\"Unnamed: 0\", axis = 1, inplace = True)"
   ]
  },
  {
   "cell_type": "code",
   "execution_count": 54,
   "metadata": {},
   "outputs": [],
   "source": [
    "gdp_df = pd.read_csv(\"finalgdp.csv\")\n",
    "gdp_df.drop(\"Unnamed: 0\", axis = 1, inplace = True)"
   ]
  },
  {
   "cell_type": "markdown",
   "metadata": {},
   "source": [
    "## 2007 - 2017"
   ]
  },
  {
   "cell_type": "code",
   "execution_count": 55,
   "metadata": {},
   "outputs": [],
   "source": [
    "compare_HIV = HIV_df[['Country Name', '2007', '2017']].copy()\n",
    "compare_gdp = gdp_df[['Country Name', '2007', '2017']].copy()\n",
    "compare_HIV.columns = ['country', 'HIV_2007', 'HIV_2017']\n",
    "compare_gdp.columns = ['country', 'gdp_2007', 'gdp_2017']\n",
    "\n",
    "compare = pd.merge(compare_gdp, compare_HIV)\n"
   ]
  },
  {
   "cell_type": "markdown",
   "metadata": {},
   "source": [
    "## Population 2017"
   ]
  },
  {
   "cell_type": "code",
   "execution_count": 70,
   "metadata": {},
   "outputs": [
    {
     "data": {
      "text/html": [
       "<div>\n",
       "<style scoped>\n",
       "    .dataframe tbody tr th:only-of-type {\n",
       "        vertical-align: middle;\n",
       "    }\n",
       "\n",
       "    .dataframe tbody tr th {\n",
       "        vertical-align: top;\n",
       "    }\n",
       "\n",
       "    .dataframe thead th {\n",
       "        text-align: right;\n",
       "    }\n",
       "</style>\n",
       "<table border=\"1\" class=\"dataframe\">\n",
       "  <thead>\n",
       "    <tr style=\"text-align: right;\">\n",
       "      <th></th>\n",
       "      <th>country</th>\n",
       "      <th>population</th>\n",
       "    </tr>\n",
       "  </thead>\n",
       "  <tbody>\n",
       "    <tr>\n",
       "      <th>0</th>\n",
       "      <td>China</td>\n",
       "      <td>1388232693</td>\n",
       "    </tr>\n",
       "    <tr>\n",
       "      <th>1</th>\n",
       "      <td>India</td>\n",
       "      <td>1342512706</td>\n",
       "    </tr>\n",
       "    <tr>\n",
       "      <th>2</th>\n",
       "      <td>U.S.</td>\n",
       "      <td>326474013</td>\n",
       "    </tr>\n",
       "    <tr>\n",
       "      <th>3</th>\n",
       "      <td>Indonesia</td>\n",
       "      <td>263510146</td>\n",
       "    </tr>\n",
       "    <tr>\n",
       "      <th>4</th>\n",
       "      <td>Brazil</td>\n",
       "      <td>211243220</td>\n",
       "    </tr>\n",
       "    <tr>\n",
       "      <th>...</th>\n",
       "      <td>...</td>\n",
       "      <td>...</td>\n",
       "    </tr>\n",
       "    <tr>\n",
       "      <th>190</th>\n",
       "      <td>San Marino</td>\n",
       "      <td>32104</td>\n",
       "    </tr>\n",
       "    <tr>\n",
       "      <th>191</th>\n",
       "      <td>Palau</td>\n",
       "      <td>21726</td>\n",
       "    </tr>\n",
       "    <tr>\n",
       "      <th>192</th>\n",
       "      <td>Nauru</td>\n",
       "      <td>10301</td>\n",
       "    </tr>\n",
       "    <tr>\n",
       "      <th>193</th>\n",
       "      <td>Tuvalu</td>\n",
       "      <td>9975</td>\n",
       "    </tr>\n",
       "    <tr>\n",
       "      <th>194</th>\n",
       "      <td>Holy See</td>\n",
       "      <td>801</td>\n",
       "    </tr>\n",
       "  </tbody>\n",
       "</table>\n",
       "<p>195 rows × 2 columns</p>\n",
       "</div>"
      ],
      "text/plain": [
       "        country  population\n",
       "0         China  1388232693\n",
       "1         India  1342512706\n",
       "2          U.S.   326474013\n",
       "3     Indonesia   263510146\n",
       "4        Brazil   211243220\n",
       "..          ...         ...\n",
       "190  San Marino       32104\n",
       "191       Palau       21726\n",
       "192       Nauru       10301\n",
       "193      Tuvalu        9975\n",
       "194    Holy See         801\n",
       "\n",
       "[195 rows x 2 columns]"
      ]
     },
     "execution_count": 70,
     "metadata": {},
     "output_type": "execute_result"
    }
   ],
   "source": [
    "import json\n",
    "pop2017 = pd.read_json('worldpopulation.json')\n",
    "pop2017.drop(['Rank','World'], axis = 1, inplace = True)\n",
    "\n",
    "pop2017"
   ]
  },
  {
   "cell_type": "markdown",
   "metadata": {},
   "source": [
    "## Population 2007"
   ]
  },
  {
   "cell_type": "code",
   "execution_count": 57,
   "metadata": {},
   "outputs": [],
   "source": [
    "pop2007 = pd.read_csv('WPP2019_TotalPopulationBySex.csv')\n",
    "\n",
    "# Drop the not needed columns\n",
    "pop2007.drop(['LocID', 'VarID', 'Variant', 'MidPeriod', 'PopMale', 'PopFemale'], axis = 1, inplace = True)\n",
    "\n",
    "# Drop all the years that are not 2007\n",
    "indexNames = pop2007[pop2007['Time'] != 2007].index\n",
    "pop2007.drop(indexNames , inplace=True)\n",
    "\n",
    "# Remove all non-countries\n",
    "countries = pop2017['country'].tolist()\n",
    "pop2007 = pop2007[pop2007['Location'].isin(countries)]\n",
    "\n",
    "# Make the population a full number\n",
    "pop2007['PopTotal'] = pop2007['PopTotal'].apply(lambda x: int(x*1000))\n",
    "pop2007.drop(['Time'], axis = 1, inplace = True)\n",
    "pop2007.columns=['country', 'population']"
   ]
  },
  {
   "cell_type": "markdown",
   "metadata": {},
   "source": [
    "## Populations 2007 & 2017 (Top 5 Growth)"
   ]
  },
  {
   "cell_type": "code",
   "execution_count": 85,
   "metadata": {},
   "outputs": [
    {
     "data": {
      "text/plain": [
       "Text(0, 0.5, 'Population')"
      ]
     },
     "execution_count": 85,
     "metadata": {},
     "output_type": "execute_result"
    },
    {
     "data": {
      "image/png": "[encoded data removed]",
      "text/plain": [
       "<Figure size 432x288 with 1 Axes>"
      ]
     },
     "metadata": {
      "needs_background": "light"
     },
     "output_type": "display_data"
    }
   ],
   "source": [
    "populations = pd.merge(pop2007, pop2017, how = 'inner', on = 'country')\n",
    "populations.columns = ['country', 'pop2007', 'pop2017']\n",
    "\n",
    "populations.set_index('country', inplace = True)\n",
    "\n",
    "highest_pop = populations.sort_values('pop2017', ascending = False).head()\n",
    "\n",
    "highest_pop.plot.bar()\n",
    "plt.ylabel('Population')"
   ]
  },
  {
   "cell_type": "markdown",
   "metadata": {},
   "source": [
    "## Deathrate per 1000000 residents in 2007 and 2017"
   ]
  },
  {
   "cell_type": "code",
   "execution_count": 59,
   "metadata": {
    "scrolled": true
   },
   "outputs": [
    {
     "data": {
      "text/html": [
       "<div>\n",
       "<style scoped>\n",
       "    .dataframe tbody tr th:only-of-type {\n",
       "        vertical-align: middle;\n",
       "    }\n",
       "\n",
       "    .dataframe tbody tr th {\n",
       "        vertical-align: top;\n",
       "    }\n",
       "\n",
       "    .dataframe thead th {\n",
       "        text-align: right;\n",
       "    }\n",
       "</style>\n",
       "<table border=\"1\" class=\"dataframe\">\n",
       "  <thead>\n",
       "    <tr style=\"text-align: right;\">\n",
       "      <th></th>\n",
       "      <th>country</th>\n",
       "      <th>gdp_2007</th>\n",
       "      <th>gdp_2017</th>\n",
       "      <th>HIV_2007</th>\n",
       "      <th>HIV_2017</th>\n",
       "      <th>pop2007</th>\n",
       "      <th>pop2017</th>\n",
       "      <th>HIV/pop2007</th>\n",
       "      <th>HIV/pop2017</th>\n",
       "    </tr>\n",
       "  </thead>\n",
       "  <tbody>\n",
       "    <tr>\n",
       "      <th>80</th>\n",
       "      <td>Lesotho</td>\n",
       "      <td>1980.900154</td>\n",
       "      <td>3132.495534</td>\n",
       "      <td>3324.0</td>\n",
       "      <td>1238.0</td>\n",
       "      <td>1986926</td>\n",
       "      <td>2185159</td>\n",
       "      <td>1672.935983</td>\n",
       "      <td>566.549162</td>\n",
       "    </tr>\n",
       "    <tr>\n",
       "      <th>94</th>\n",
       "      <td>Mozambique</td>\n",
       "      <td>869.416205</td>\n",
       "      <td>1418.485398</td>\n",
       "      <td>32748.0</td>\n",
       "      <td>13726.0</td>\n",
       "      <td>21673319</td>\n",
       "      <td>29537914</td>\n",
       "      <td>1510.982236</td>\n",
       "      <td>464.690905</td>\n",
       "    </tr>\n",
       "    <tr>\n",
       "      <th>154</th>\n",
       "      <td>Zimbabwe</td>\n",
       "      <td>1705.901346</td>\n",
       "      <td>2825.725122</td>\n",
       "      <td>17862.0</td>\n",
       "      <td>2532.0</td>\n",
       "      <td>12255920</td>\n",
       "      <td>16337760</td>\n",
       "      <td>1457.418129</td>\n",
       "      <td>154.978406</td>\n",
       "    </tr>\n",
       "    <tr>\n",
       "      <th>152</th>\n",
       "      <td>South Africa</td>\n",
       "      <td>11240.260370</td>\n",
       "      <td>13438.282890</td>\n",
       "      <td>66930.0</td>\n",
       "      <td>10200.0</td>\n",
       "      <td>49119765</td>\n",
       "      <td>55436360</td>\n",
       "      <td>1362.587952</td>\n",
       "      <td>183.994764</td>\n",
       "    </tr>\n",
       "    <tr>\n",
       "      <th>153</th>\n",
       "      <td>Zambia</td>\n",
       "      <td>2637.277877</td>\n",
       "      <td>4090.120040</td>\n",
       "      <td>14590.0</td>\n",
       "      <td>5002.0</td>\n",
       "      <td>12502958</td>\n",
       "      <td>17237931</td>\n",
       "      <td>1166.923859</td>\n",
       "      <td>290.174035</td>\n",
       "    </tr>\n",
       "    <tr>\n",
       "      <th>...</th>\n",
       "      <td>...</td>\n",
       "      <td>...</td>\n",
       "      <td>...</td>\n",
       "      <td>...</td>\n",
       "      <td>...</td>\n",
       "      <td>...</td>\n",
       "      <td>...</td>\n",
       "      <td>...</td>\n",
       "      <td>...</td>\n",
       "    </tr>\n",
       "    <tr>\n",
       "      <th>11</th>\n",
       "      <td>Belgium</td>\n",
       "      <td>36755.656330</td>\n",
       "      <td>50220.866670</td>\n",
       "      <td>0.0</td>\n",
       "      <td>0.0</td>\n",
       "      <td>10697576</td>\n",
       "      <td>11443830</td>\n",
       "      <td>0.000000</td>\n",
       "      <td>0.000000</td>\n",
       "    </tr>\n",
       "    <tr>\n",
       "      <th>46</th>\n",
       "      <td>France</td>\n",
       "      <td>34088.360080</td>\n",
       "      <td>44255.941640</td>\n",
       "      <td>0.0</td>\n",
       "      <td>2.0</td>\n",
       "      <td>61869229</td>\n",
       "      <td>64938716</td>\n",
       "      <td>0.000000</td>\n",
       "      <td>0.030798</td>\n",
       "    </tr>\n",
       "    <tr>\n",
       "      <th>115</th>\n",
       "      <td>Poland</td>\n",
       "      <td>16787.970250</td>\n",
       "      <td>29922.204980</td>\n",
       "      <td>0.0</td>\n",
       "      <td>0.0</td>\n",
       "      <td>38353339</td>\n",
       "      <td>38563573</td>\n",
       "      <td>0.000000</td>\n",
       "      <td>0.000000</td>\n",
       "    </tr>\n",
       "    <tr>\n",
       "      <th>81</th>\n",
       "      <td>Lithuania</td>\n",
       "      <td>19095.436770</td>\n",
       "      <td>33314.740370</td>\n",
       "      <td>0.0</td>\n",
       "      <td>0.0</td>\n",
       "      <td>3258984</td>\n",
       "      <td>2830582</td>\n",
       "      <td>0.000000</td>\n",
       "      <td>0.000000</td>\n",
       "    </tr>\n",
       "    <tr>\n",
       "      <th>113</th>\n",
       "      <td>Palau</td>\n",
       "      <td>13626.282610</td>\n",
       "      <td>17865.790810</td>\n",
       "      <td>0.0</td>\n",
       "      <td>0.0</td>\n",
       "      <td>19159</td>\n",
       "      <td>21726</td>\n",
       "      <td>0.000000</td>\n",
       "      <td>0.000000</td>\n",
       "    </tr>\n",
       "  </tbody>\n",
       "</table>\n",
       "<p>155 rows × 9 columns</p>\n",
       "</div>"
      ],
      "text/plain": [
       "          country      gdp_2007      gdp_2017  HIV_2007  HIV_2017   pop2007  \\\n",
       "80        Lesotho   1980.900154   3132.495534    3324.0    1238.0   1986926   \n",
       "94     Mozambique    869.416205   1418.485398   32748.0   13726.0  21673319   \n",
       "154      Zimbabwe   1705.901346   2825.725122   17862.0    2532.0  12255920   \n",
       "152  South Africa  11240.260370  13438.282890   66930.0   10200.0  49119765   \n",
       "153        Zambia   2637.277877   4090.120040   14590.0    5002.0  12502958   \n",
       "..            ...           ...           ...       ...       ...       ...   \n",
       "11        Belgium  36755.656330  50220.866670       0.0       0.0  10697576   \n",
       "46         France  34088.360080  44255.941640       0.0       2.0  61869229   \n",
       "115        Poland  16787.970250  29922.204980       0.0       0.0  38353339   \n",
       "81      Lithuania  19095.436770  33314.740370       0.0       0.0   3258984   \n",
       "113         Palau  13626.282610  17865.790810       0.0       0.0     19159   \n",
       "\n",
       "      pop2017  HIV/pop2007  HIV/pop2017  \n",
       "80    2185159  1672.935983   566.549162  \n",
       "94   29537914  1510.982236   464.690905  \n",
       "154  16337760  1457.418129   154.978406  \n",
       "152  55436360  1362.587952   183.994764  \n",
       "153  17237931  1166.923859   290.174035  \n",
       "..        ...          ...          ...  \n",
       "11   11443830     0.000000     0.000000  \n",
       "46   64938716     0.000000     0.030798  \n",
       "115  38563573     0.000000     0.000000  \n",
       "81    2830582     0.000000     0.000000  \n",
       "113     21726     0.000000     0.000000  \n",
       "\n",
       "[155 rows x 9 columns]"
      ]
     },
     "execution_count": 59,
     "metadata": {},
     "output_type": "execute_result"
    },
    {
     "data": {
      "image/png": "[encoded data removed]",
      "text/plain": [
       "<Figure size 432x288 with 1 Axes>"
      ]
     },
     "metadata": {
      "needs_background": "light"
     },
     "output_type": "display_data"
    },
    {
     "data": {
      "image/png": "[encoded data removed]",
      "text/plain": [
       "<Figure size 432x288 with 1 Axes>"
      ]
     },
     "metadata": {
      "needs_background": "light"
     },
     "output_type": "display_data"
    }
   ],
   "source": [
    "yrs_cmp = pd.merge(compare, populations)\n",
    "\n",
    "### AMOUNT OF DEATHS PER 1000000 residents in 2007\n",
    "deaths_by_pop2007 = yrs_cmp['HIV_2007']/(yrs_cmp['pop2007']/1000000)\n",
    "yrs_cmp['HIV/pop2007'] = deaths_by_pop2007\n",
    "\n",
    "### AMOUNT OF DEATHS PER 1000000 residents in 2007\n",
    "deaths_by_pop2017 = yrs_cmp['HIV_2017']/(yrs_cmp['pop2017']/1000000)\n",
    "yrs_cmp['HIV/pop2017'] = deaths_by_pop2017\n",
    "\n",
    "\n",
    "death_pop_07 = yrs_cmp.plot.scatter(x='gdp_2007', y='HIV/pop2007')\n",
    "death_pop_17 = yrs_cmp.plot.scatter(x='gdp_2017', y='HIV/pop2017')\n",
    "\n",
    "yrs_cmp = yrs_cmp.sort_values(by='HIV/pop2007', ascending=False)\n",
    "\n",
    "yrs_cmp"
   ]
  },
  {
   "cell_type": "markdown",
   "metadata": {},
   "source": [
    "## Deaths per 1000000"
   ]
  },
  {
   "cell_type": "code",
   "execution_count": 68,
   "metadata": {},
   "outputs": [],
   "source": [
    "popyears = pd.read_csv('WPP2019_TotalPopulationBySex.csv')\n",
    "\n",
    "# Drop the not needed columns\n",
    "popyears.drop(['LocID', 'VarID', 'Variant', 'MidPeriod', 'PopMale', 'PopFemale'], axis = 1, inplace = True)\n",
    "popyears = popyears[popyears['Location'].isin(top3)]\n",
    "\n",
    "# Drop all the years that are not 2007\n",
    "years = range(2007, 2018)\n",
    "indexNames = popyears[~popyears['Time'].isin(years)].index\n",
    "popyears.drop(indexNames , inplace=True)\n",
    "\n",
    "# Make the population a full number\n",
    "popyears['PopTotal'] = popyears['PopTotal'].apply(lambda x: int(x*1000))\n",
    "\n",
    "popyears.columns=['country', 'year', 'population']\n"
   ]
  },
  {
   "cell_type": "code",
   "execution_count": 61,
   "metadata": {},
   "outputs": [],
   "source": [
    "pop_top3 = popyears[popyears['country'].isin(['Lesotho', 'Mozambique', 'Zimbabwe'])]\n",
    "hiv_top3 = HIV_df[HIV_df['Country Name'].isin(['Lesotho', 'Mozambique', 'Zimbabwe'])]\n",
    "pop_top3.index = pop_top3['year']\n",
    "\n",
    "hiv_top3 = pd.melt(hiv_top3, id_vars='Country Name', value_vars=list(hiv_top3.columns[1:]), var_name='year', value_name='Deaths')\n",
    "hiv_top3.index = hiv_top3['year']\n",
    "hiv_top3.drop(['year'], axis = 1, inplace = True)\n",
    "hiv_top3 = hiv_top3.sort_values(by=['Country Name', 'year'])\n",
    "\n",
    "pop_top3['deaths'] = hiv_top3['Deaths'].values\n",
    "pop_top3['deaths/pop'] = pop_top3['deaths']/ pop_top3['population'] * 1000000\n",
    "pop_top3.drop(['population', 'deaths', 'year'], axis = 1, inplace = True)\n",
    "pop_top3 = pop_top3.pivot_table(columns = 'country', index = 'year', values = 'deaths/pop')\n",
    "del pop_top3.index.name\n"
   ]
  },
  {
   "cell_type": "code",
   "execution_count": 62,
   "metadata": {},
   "outputs": [
    {
     "data": {
      "text/plain": [
       "Text(0, 0.5, 'GDP')"
      ]
     },
     "execution_count": 62,
     "metadata": {},
     "output_type": "execute_result"
    },
    {
     "data": {
      "image/png": "[encoded data removed]",
      "text/plain": [
       "<Figure size 432x288 with 1 Axes>"
      ]
     },
     "metadata": {
      "needs_background": "light"
     },
     "output_type": "display_data"
    },
    {
     "data": {
      "image/png": "[encoded data removed]",
      "text/plain": [
       "<Figure size 432x288 with 2 Axes>"
      ]
     },
     "metadata": {
      "needs_background": "light"
     },
     "output_type": "display_data"
    }
   ],
   "source": [
    "combined_df = pivot_gdp.join(pop_top3, how = 'outer', lsuffix='_gdp', rsuffix='_deaths')\n",
    "nig_plot = combined_df.filter(regex='deaths$',axis=1).plot(kind = 'bar')\n",
    "plt.ylabel('Deaths per 1000000 residents')\n",
    "nig_plot = combined_df.filter(regex='gdp$',axis=1).plot(secondary_y = True)\n",
    "plt.ylabel('GDP')"
   ]
  },
  {
   "cell_type": "markdown",
   "metadata": {},
   "source": [
    "## Total Deaths Comparison"
   ]
  },
  {
   "cell_type": "code",
   "execution_count": 82,
   "metadata": {},
   "outputs": [
    {
     "data": {
      "text/html": [
       "<div>\n",
       "<style scoped>\n",
       "    .dataframe tbody tr th:only-of-type {\n",
       "        vertical-align: middle;\n",
       "    }\n",
       "\n",
       "    .dataframe tbody tr th {\n",
       "        vertical-align: top;\n",
       "    }\n",
       "\n",
       "    .dataframe thead th {\n",
       "        text-align: right;\n",
       "    }\n",
       "</style>\n",
       "<table border=\"1\" class=\"dataframe\">\n",
       "  <thead>\n",
       "    <tr style=\"text-align: right;\">\n",
       "      <th>Country Name</th>\n",
       "      <th>Lesotho_gdp</th>\n",
       "      <th>Mozambique_gdp</th>\n",
       "      <th>Zimbabwe_gdp</th>\n",
       "      <th>Lesotho_deaths</th>\n",
       "      <th>Mozambique_deaths</th>\n",
       "      <th>Zimbabwe_deaths</th>\n",
       "    </tr>\n",
       "  </thead>\n",
       "  <tbody>\n",
       "    <tr>\n",
       "      <th>2007</th>\n",
       "      <td>1980.900154</td>\n",
       "      <td>869.416205</td>\n",
       "      <td>1705.901346</td>\n",
       "      <td>3324.0</td>\n",
       "      <td>32748.0</td>\n",
       "      <td>17862.0</td>\n",
       "    </tr>\n",
       "    <tr>\n",
       "      <th>2008</th>\n",
       "      <td>2155.306978</td>\n",
       "      <td>925.180540</td>\n",
       "      <td>1417.507098</td>\n",
       "      <td>3156.0</td>\n",
       "      <td>30852.0</td>\n",
       "      <td>15362.0</td>\n",
       "    </tr>\n",
       "    <tr>\n",
       "      <th>2009</th>\n",
       "      <td>2215.177375</td>\n",
       "      <td>964.335334</td>\n",
       "      <td>1581.161558</td>\n",
       "      <td>2518.0</td>\n",
       "      <td>28772.0</td>\n",
       "      <td>12774.0</td>\n",
       "    </tr>\n",
       "    <tr>\n",
       "      <th>2010</th>\n",
       "      <td>2378.563578</td>\n",
       "      <td>1010.752656</td>\n",
       "      <td>1888.566739</td>\n",
       "      <td>1501.0</td>\n",
       "      <td>29032.0</td>\n",
       "      <td>10594.0</td>\n",
       "    </tr>\n",
       "    <tr>\n",
       "      <th>2011</th>\n",
       "      <td>2578.639634</td>\n",
       "      <td>1078.208603</td>\n",
       "      <td>2168.110293</td>\n",
       "      <td>1516.0</td>\n",
       "      <td>26734.0</td>\n",
       "      <td>8594.0</td>\n",
       "    </tr>\n",
       "    <tr>\n",
       "      <th>2012</th>\n",
       "      <td>2767.675610</td>\n",
       "      <td>1146.642098</td>\n",
       "      <td>2534.541919</td>\n",
       "      <td>1532.0</td>\n",
       "      <td>23816.0</td>\n",
       "      <td>6224.0</td>\n",
       "    </tr>\n",
       "    <tr>\n",
       "      <th>2013</th>\n",
       "      <td>2857.768834</td>\n",
       "      <td>1213.929695</td>\n",
       "      <td>2583.985638</td>\n",
       "      <td>1498.0</td>\n",
       "      <td>20902.0</td>\n",
       "      <td>4398.0</td>\n",
       "    </tr>\n",
       "    <tr>\n",
       "      <th>2014</th>\n",
       "      <td>2972.012946</td>\n",
       "      <td>1291.746810</td>\n",
       "      <td>2648.568967</td>\n",
       "      <td>1560.0</td>\n",
       "      <td>19240.0</td>\n",
       "      <td>3410.0</td>\n",
       "    </tr>\n",
       "    <tr>\n",
       "      <th>2015</th>\n",
       "      <td>3062.068836</td>\n",
       "      <td>1354.391906</td>\n",
       "      <td>2679.580317</td>\n",
       "      <td>1672.0</td>\n",
       "      <td>15882.0</td>\n",
       "      <td>3344.0</td>\n",
       "    </tr>\n",
       "    <tr>\n",
       "      <th>2016</th>\n",
       "      <td>3170.578608</td>\n",
       "      <td>1381.315497</td>\n",
       "      <td>2687.385429</td>\n",
       "      <td>1350.0</td>\n",
       "      <td>13982.0</td>\n",
       "      <td>2852.0</td>\n",
       "    </tr>\n",
       "    <tr>\n",
       "      <th>2017</th>\n",
       "      <td>3132.495534</td>\n",
       "      <td>1418.485398</td>\n",
       "      <td>2825.725122</td>\n",
       "      <td>1238.0</td>\n",
       "      <td>13726.0</td>\n",
       "      <td>2532.0</td>\n",
       "    </tr>\n",
       "  </tbody>\n",
       "</table>\n",
       "</div>"
      ],
      "text/plain": [
       "Country Name  Lesotho_gdp  Mozambique_gdp  Zimbabwe_gdp  Lesotho_deaths  \\\n",
       "2007          1980.900154      869.416205   1705.901346          3324.0   \n",
       "2008          2155.306978      925.180540   1417.507098          3156.0   \n",
       "2009          2215.177375      964.335334   1581.161558          2518.0   \n",
       "2010          2378.563578     1010.752656   1888.566739          1501.0   \n",
       "2011          2578.639634     1078.208603   2168.110293          1516.0   \n",
       "2012          2767.675610     1146.642098   2534.541919          1532.0   \n",
       "2013          2857.768834     1213.929695   2583.985638          1498.0   \n",
       "2014          2972.012946     1291.746810   2648.568967          1560.0   \n",
       "2015          3062.068836     1354.391906   2679.580317          1672.0   \n",
       "2016          3170.578608     1381.315497   2687.385429          1350.0   \n",
       "2017          3132.495534     1418.485398   2825.725122          1238.0   \n",
       "\n",
       "Country Name  Mozambique_deaths  Zimbabwe_deaths  \n",
       "2007                    32748.0          17862.0  \n",
       "2008                    30852.0          15362.0  \n",
       "2009                    28772.0          12774.0  \n",
       "2010                    29032.0          10594.0  \n",
       "2011                    26734.0           8594.0  \n",
       "2012                    23816.0           6224.0  \n",
       "2013                    20902.0           4398.0  \n",
       "2014                    19240.0           3410.0  \n",
       "2015                    15882.0           3344.0  \n",
       "2016                    13982.0           2852.0  \n",
       "2017                    13726.0           2532.0  "
      ]
     },
     "execution_count": 82,
     "metadata": {},
     "output_type": "execute_result"
    },
    {
     "data": {
      "image/png": "[encoded data removed]",
      "text/plain": [
       "<Figure size 432x288 with 1 Axes>"
      ]
     },
     "metadata": {
      "needs_background": "light"
     },
     "output_type": "display_data"
    },
    {
     "data": {
      "image/png": "[encoded data removed]",
      "text/plain": [
       "<Figure size 432x288 with 2 Axes>"
      ]
     },
     "metadata": {
      "needs_background": "light"
     },
     "output_type": "display_data"
    }
   ],
   "source": [
    "top3 = yrs_cmp['country'].iloc[:3]\n",
    "\n",
    "top3_HIV = HIV_df[HIV_df['Country Name'].isin(top3)]\n",
    "top3_gdp = gdp_df[gdp_df['Country Name'].isin(top3)]\n",
    "\n",
    "pivot_HIV = top3_HIV.pivot_table(columns = 'Country Name')\n",
    "pivot_gdp = top3_gdp.pivot_table(columns = 'Country Name')\n",
    "pivot_gdp.index = pivot_gdp.index.astype(int)\n",
    "pivot_HIV.index = pivot_gdp.index.astype(int)\n",
    "del pivot_gdp.index.name\n",
    "\n",
    "combined_df = pivot_gdp.join(pivot_HIV, how = 'outer', lsuffix='_gdp', rsuffix='_deaths')\n",
    "#print(combined_df)\n",
    "\n",
    "nig_plot = combined_df.filter(regex='deaths$',axis=1).plot(kind = 'bar')\n",
    "plt.ylabel('Deaths')\n",
    "nig_plot = combined_df.filter(regex='gdp$',axis=1).plot(secondary_y = True)\n",
    "plt.ylabel('GDP')\n",
    "\n",
    "combined_df"
   ]
  }
 ],
 "metadata": {
  "kernelspec": {
   "display_name": "Python 3",
   "language": "python",
   "name": "python3"
  },
  "language_info": {
   "codemirror_mode": {
    "name": "ipython",
    "version": 3
   },
   "file_extension": ".py",
   "mimetype": "text/x-python",
   "name": "python",
   "nbconvert_exporter": "python",
   "pygments_lexer": "ipython3",
   "version": "3.6.9"
  }
 },
 "nbformat": 4,
 "nbformat_minor": 4
}
